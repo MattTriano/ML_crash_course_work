{
 "cells": [
  {
   "cell_type": "markdown",
   "metadata": {},
   "source": [
    "## Regression\n",
    "\n",
    "**Linear Relationship**\n",
    "\\begin{equation}\n",
    "    y=mx+b\n",
    "\\end{equation}\n",
    "\n",
    "**Regression Model Equation**\n",
    "\\begin{equation}\n",
    "    y'= b + w_1x_1 + w_2x_2 + ... + w_ix_i\n",
    "\\end{equation}\n",
    "\n",
    "### Quantifying Loss \n",
    "\n",
    "**Mean Square Error**\n",
    "\\begin{equation}\n",
    "    MSE = \\frac{1}{N} \\sum_{(x,y)\\in D} (y-prediction(x))^2\n",
    "\\end{equation}\n",
    "\n"
   ]
  },
  {
   "cell_type": "markdown",
   "metadata": {},
   "source": [
    "### Gradient Descent\n",
    "\n",
    "To reach a local optimal result value for any equation (e.g. loss), calculus provides an analytic solution; differentiating the equation with respect to its parameters. However, analytically differentiating functions of many variables is somewhat expensive, and we have a cheaper alternative. We can apply the **guess-and-check** strategy. In practice, this means we (well, the machine learner) start from some initialization point and calculate the value of the equation at that point. "
   ]
  },
  {
   "cell_type": "markdown",
   "metadata": {},
   "source": []
  },
  {
   "cell_type": "markdown",
   "metadata": {},
   "source": []
  },
  {
   "cell_type": "markdown",
   "metadata": {},
   "source": []
  },
  {
   "cell_type": "markdown",
   "metadata": {},
   "source": []
  },
  {
   "cell_type": "markdown",
   "metadata": {},
   "source": []
  },
  {
   "cell_type": "markdown",
   "metadata": {},
   "source": []
  },
  {
   "cell_type": "markdown",
   "metadata": {},
   "source": []
  },
  {
   "cell_type": "markdown",
   "metadata": {},
   "source": []
  },
  {
   "cell_type": "markdown",
   "metadata": {},
   "source": []
  }
 ],
 "metadata": {
  "anaconda-cloud": {},
  "kernelspec": {
   "display_name": "Python [conda env:tf15]",
   "language": "python",
   "name": "conda-env-tf15-py"
  },
  "language_info": {
   "codemirror_mode": {
    "name": "ipython",
    "version": 3
   },
   "file_extension": ".py",
   "mimetype": "text/x-python",
   "name": "python",
   "nbconvert_exporter": "python",
   "pygments_lexer": "ipython3",
   "version": "3.5.4"
  }
 },
 "nbformat": 4,
 "nbformat_minor": 2
}
