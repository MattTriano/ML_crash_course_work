{
 "cells": [
  {
   "cell_type": "markdown",
   "metadata": {},
   "source": [
    "## Regression\n",
    "\n",
    "**Linear Relationship**\n",
    "\\begin{equation}\n",
    "    y=mx+b\n",
    "\\end{equation}\n",
    "\n",
    "**Regression Model Equation**\n",
    "\\begin{equation}\n",
    "    y'= b + w_1x_1 + w_2x_2 + ... + w_ix_i\n",
    "\\end{equation}\n",
    "\n",
    "### Quantifying Loss \n",
    "\n",
    "**Mean Square Error**\n",
    "\\begin{equation}\n",
    "    MSE = \\frac{1}{N} \\sum_{(x,y)\\in D} (y-prediction(x))^2\n",
    "\\end{equation}\n",
    "\n"
   ]
  },
  {
   "cell_type": "markdown",
   "metadata": {},
   "source": [
    "### Gradient Descent\n",
    "\n",
    "To reach a local optimal result value for any equation or function (e.g. loss), calculus provides an analytic solution; differentiating the equation with respect to its parameters. We can also differentiate with respect to a single variable (ie take a **partial derivative**) to get the gradient of the function with respect to that variable, and negative gradient indicates which direction to move to decrease the value of the function. **Gradient Descent** works by starting at an initial point and  moving a distance in the negative direction if possible (that distance is the value of the gradient multiplied by a quantity called the **learning rate**). This process repeats iteratively until  If the learning rate is too large, it will not be possible to move to a lower value and the gradient descent algorithm will not converge. "
   ]
  },
  {
   "cell_type": "markdown",
   "metadata": {},
   "source": [
    "### Stochastic Gradient Descent\n",
    "\n",
    "Ideally, the gradient would be calculated from the entire data set (or **batch** of data points). In practice, it can be prohibitively time consuming to calculate this from massive data sets or high-dimensional data sets. **Stochastic Gradient Descent** (or **SGD**) calculates the gradient for every single point (somehow, although this doesn't quite make sense from my mental model of gradients relating to a virtual surface/manifold) and averages these values. "
   ]
  },
  {
   "cell_type": "markdown",
   "metadata": {},
   "source": []
  },
  {
   "cell_type": "markdown",
   "metadata": {},
   "source": []
  },
  {
   "cell_type": "markdown",
   "metadata": {},
   "source": []
  },
  {
   "cell_type": "markdown",
   "metadata": {},
   "source": []
  },
  {
   "cell_type": "markdown",
   "metadata": {},
   "source": []
  },
  {
   "cell_type": "markdown",
   "metadata": {},
   "source": []
  }
 ],
 "metadata": {
  "anaconda-cloud": {},
  "kernelspec": {
   "display_name": "Python [conda env:tf15]",
   "language": "python",
   "name": "conda-env-tf15-py"
  },
  "language_info": {
   "codemirror_mode": {
    "name": "ipython",
    "version": 3
   },
   "file_extension": ".py",
   "mimetype": "text/x-python",
   "name": "python",
   "nbconvert_exporter": "python",
   "pygments_lexer": "ipython3",
   "version": "3.5.4"
  }
 },
 "nbformat": 4,
 "nbformat_minor": 2
}
